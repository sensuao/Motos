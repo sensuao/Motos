{
 "cells": [
  {
   "cell_type": "code",
   "execution_count": null,
   "metadata": {
    "collapsed": true
   },
   "outputs": [],
   "source": []
  },
  {
   "cell_type": "code",
   "execution_count": 1,
   "outputs": [],
   "source": [
    "pos2nb_dict = {1:\"10\", 2:\"11\", 3:\"12\"}"
   ],
   "metadata": {
    "collapsed": false,
    "pycharm": {
     "name": "#%%\n"
    }
   }
  },
  {
   "cell_type": "code",
   "execution_count": 7,
   "outputs": [],
   "source": [
    "import numpy as np"
   ],
   "metadata": {
    "collapsed": false,
    "pycharm": {
     "name": "#%%\n"
    }
   }
  },
  {
   "cell_type": "code",
   "execution_count": 11,
   "outputs": [],
   "source": [
    "images_path = [\"caca/image1\", \"caca/image2\", \"caca/image3\"]\n",
    "y_test_pred = np.array([[1, 0, 6], [3, 6, 0], [2, 4, 6]])"
   ],
   "metadata": {
    "collapsed": false,
    "pycharm": {
     "name": "#%%\n"
    }
   }
  },
  {
   "cell_type": "code",
   "execution_count": 12,
   "outputs": [
    {
     "data": {
      "text/plain": "[1, 3, 2]"
     },
     "execution_count": 12,
     "metadata": {},
     "output_type": "execute_result"
    }
   ],
   "source": [
    "list(y_test_pred[:,0])"
   ],
   "metadata": {
    "collapsed": false,
    "pycharm": {
     "name": "#%%\n"
    }
   }
  },
  {
   "cell_type": "code",
   "execution_count": 16,
   "outputs": [],
   "source": [
    "script_content = \"\"\"\\\n",
    "    import os\n",
    "\n",
    "    # Crea vectores\n",
    "    folders = {!r}\n",
    "    paths = {!r}\n",
    "\n",
    "    # Itera sobre cada fila del dataframe\n",
    "    for folder, path in zip([folders, paths]):\n",
    "\n",
    "        # Crea el directorio de destino si no existe\n",
    "        if not os.path.exists(str(folder)):\n",
    "            os.makedirs(str(folder))\n",
    "\n",
    "        # Mueve el archivo a su destino\n",
    "        filename = os.path.basename(path)\n",
    "        destination = os.path.join(folder, filename)\n",
    "        os.rename(path, destination)\n",
    "    \"\"\".format([pos2nb_dict[pred] for pred in list(y_test_pred[:,0])], list(images_path))"
   ],
   "metadata": {
    "collapsed": false,
    "pycharm": {
     "name": "#%%\n"
    }
   }
  },
  {
   "cell_type": "code",
   "execution_count": 17,
   "outputs": [
    {
     "data": {
      "text/plain": "\"    import os\\n\\n    # Crea vectores\\n    folders = ['10', '12', '11']\\n    paths = ['caca/image1', 'caca/image2', 'caca/image3']\\n\\n    # Itera sobre cada fila del dataframe\\n    for folder, path in zip([folders, paths]):\\n\\n        # Crea el directorio de destino si no existe\\n        if not os.path.exists(str(folder)):\\n            os.makedirs(str(folder))\\n\\n        # Mueve el archivo a su destino\\n        filename = os.path.basename(path)\\n        destination = os.path.join(folder, filename)\\n        os.rename(path, destination)\\n    \""
     },
     "execution_count": 17,
     "metadata": {},
     "output_type": "execute_result"
    }
   ],
   "source": [
    "script_content"
   ],
   "metadata": {
    "collapsed": false,
    "pycharm": {
     "name": "#%%\n"
    }
   }
  },
  {
   "cell_type": "code",
   "execution_count": null,
   "outputs": [],
   "source": [],
   "metadata": {
    "collapsed": false,
    "pycharm": {
     "name": "#%%\n"
    }
   }
  }
 ],
 "metadata": {
  "kernelspec": {
   "display_name": "Python 3",
   "language": "python",
   "name": "python3"
  },
  "language_info": {
   "codemirror_mode": {
    "name": "ipython",
    "version": 2
   },
   "file_extension": ".py",
   "mimetype": "text/x-python",
   "name": "python",
   "nbconvert_exporter": "python",
   "pygments_lexer": "ipython2",
   "version": "2.7.6"
  }
 },
 "nbformat": 4,
 "nbformat_minor": 0
}