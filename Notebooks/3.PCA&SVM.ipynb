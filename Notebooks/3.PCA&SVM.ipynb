{
 "cells": [
  {
   "cell_type": "markdown",
   "id": "0cc045e6-2517-4211-b4d4-1d293ba64972",
   "metadata": {
    "tags": []
   },
   "source": [
    "# Libraries"
   ]
  },
  {
   "cell_type": "code",
   "execution_count": 1,
   "id": "3fb19dd1-943d-49c5-b0bd-2ba703d83cec",
   "metadata": {},
   "outputs": [],
   "source": [
    "# Funciones caseras para estandarizar la computación\n",
    "#from Functions import *\n",
    "# Para el acceso a los ficheros\n",
    "import os\n",
    "# Para las imágenes\n",
    "import numpy as np\n",
    "import cv2 # OpenCV-Python\n",
    "%matplotlib inline\n",
    "import matplotlib.pyplot as plt\n",
    "# Para controlar el tiempo\n",
    "import time"
   ]
  },
  {
   "cell_type": "code",
   "execution_count": 2,
   "id": "ac2b713d-9ff8-4f21-adbc-fe491926f80d",
   "metadata": {},
   "outputs": [],
   "source": [
    "data_path = \"../Circuito_Almeria_171021/Iniciados/Data_resized/\""
   ]
  },
  {
   "cell_type": "code",
   "execution_count": 4,
   "id": "934b6264-39bb-43ca-975c-fc74ddaf41ad",
   "metadata": {
    "tags": []
   },
   "outputs": [
    {
     "name": "stdout",
     "output_type": "stream",
     "text": [
      "73 traning images read -> 1\n",
      "17 test images read -> 1\n",
      "49 traning images read -> 10\n",
      "11 test images read -> 10\n",
      "68 traning images read -> 11\n",
      "16 test images read -> 11\n",
      "53 traning images read -> 12\n",
      "12 test images read -> 12\n",
      "53 traning images read -> 13\n",
      "13 test images read -> 13\n",
      "64 traning images read -> 14\n",
      "15 test images read -> 14\n",
      "57 traning images read -> 15\n",
      "13 test images read -> 15\n",
      "65 traning images read -> 16\n",
      "16 test images read -> 16\n",
      "53 traning images read -> 17\n",
      "12 test images read -> 17\n",
      "59 traning images read -> 18\n",
      "14 test images read -> 18\n",
      "41 traning images read -> 19\n",
      "10 test images read -> 19\n",
      "86 traning images read -> 2\n",
      "21 test images read -> 2\n",
      "25 traning images read -> 20\n",
      "5 test images read -> 20\n",
      "60 traning images read -> 21\n",
      "14 test images read -> 21\n",
      "81 traning images read -> 22\n",
      "20 test images read -> 22\n",
      "70 traning images read -> 23\n",
      "17 test images read -> 23\n",
      "77 traning images read -> 24\n",
      "18 test images read -> 24\n",
      "65 traning images read -> 25\n",
      "16 test images read -> 25\n",
      "81 traning images read -> 26\n",
      "19 test images read -> 26\n",
      "84 traning images read -> 27\n",
      "20 test images read -> 27\n",
      "51 traning images read -> 28\n",
      "12 test images read -> 28\n",
      "43 traning images read -> 29\n",
      "10 test images read -> 29\n",
      "74 traning images read -> 3\n",
      "18 test images read -> 3\n",
      "37 traning images read -> 30\n",
      "9 test images read -> 30\n",
      "34 traning images read -> 31\n",
      "8 test images read -> 31\n",
      "93 traning images read -> 32\n",
      "23 test images read -> 32\n",
      "72 traning images read -> 33\n",
      "17 test images read -> 33\n",
      "76 traning images read -> 34\n",
      "18 test images read -> 34\n",
      "53 traning images read -> 4\n",
      "13 test images read -> 4\n",
      "80 traning images read -> 5\n",
      "19 test images read -> 5\n",
      "60 traning images read -> 6\n",
      "14 test images read -> 6\n",
      "60 traning images read -> 7\n",
      "14 test images read -> 7\n",
      "69 traning images read -> 8\n",
      "16 test images read -> 8\n",
      "68 traning images read -> 9\n",
      "16 test images read -> 9\n",
      "Elapsed time: 6.221663s\n"
     ]
    }
   ],
   "source": [
    "ratio = 0.8\n",
    "\n",
    "training_data = []\n",
    "test_data = []\n",
    "classes = []\n",
    "start_time = time.time()\n",
    "for folder in os.listdir(data_path):\n",
    "    counter_training_samples = 0\n",
    "    counter_test_samples = 0\n",
    "    for file in os.listdir(data_path + folder):\n",
    "        if not (file.startswith(\"C\")):\n",
    "            img = cv2.imread(data_path + folder + \"/\" + file)\n",
    "            if counter_training_samples <= ratio*len(os.listdir(data_path + folder))/2:\n",
    "                training_data.append(img)\n",
    "                classes.append(int(folder))\n",
    "                counter_training_samples += 1\n",
    "            else:\n",
    "                test_data.append(img)\n",
    "                counter_test_samples += 1\n",
    "    print(str(counter_training_samples) + \" traning images read -> \" + folder)\n",
    "    print(str(counter_test_samples) + \" test images read -> \" + folder)\n",
    "print('Elapsed time: %.6fs' % (time.time() - start_time))"
   ]
  },
  {
   "cell_type": "code",
   "execution_count": 5,
   "id": "1a13e8e6-e0cb-4375-a1d2-3aefce1220d0",
   "metadata": {},
   "outputs": [],
   "source": [
    "training_data_reshaped = np.reshape(training_data, (len(training_data), 182*273*3))\n",
    "\n",
    "training_data_array = np.asarray(training_data_reshaped, np.float32)\n",
    "\n",
    "classes = np.array(classes)"
   ]
  },
  {
   "cell_type": "code",
   "execution_count": 5,
   "id": "b5ea85a7-3282-4cde-a33e-406f550460b6",
   "metadata": {},
   "outputs": [
    {
     "data": {
      "text/plain": [
       "PCA()"
      ]
     },
     "execution_count": 5,
     "metadata": {},
     "output_type": "execute_result"
    }
   ],
   "source": [
    "from sklearn.decomposition import PCA\n",
    "\n",
    "pca = PCA()\n",
    "pca.fit(training_data_array)"
   ]
  },
  {
   "cell_type": "code",
   "execution_count": 6,
   "id": "b165c3b9-c6b8-4f79-9a58-f0064f39bdb4",
   "metadata": {},
   "outputs": [
    {
     "data": {
      "text/plain": [
       "(0.0, 0.05)"
      ]
     },
     "execution_count": 6,
     "metadata": {},
     "output_type": "execute_result"
    },
    {
     "data": {
      "image/png": "[encoded data removed]",
      "text/plain": [
       "<Figure size 1080x720 with 2 Axes>"
      ]
     },
     "metadata": {
      "needs_background": "light"
     },
     "output_type": "display_data"
    }
   ],
   "source": [
    "cumsum=np.cumsum(pca.explained_variance_ratio_)\n",
    "plt.figure(figsize=(15,10))\n",
    "plt.subplot(2,1,1)\n",
    "plt.plot(cumsum)\n",
    "plt.title('Cumulative explained variance')\n",
    "plt.subplot(2,1,2)\n",
    "#El aporte de cada autovalor a la suma total, nos muestra la varianza explicada por cada componente\n",
    "plt.bar(range(pca.explained_variance_ratio_.shape[0]), pca.explained_variance_ratio_)\n",
    "plt.title('Explained variance by each component')\n",
    "plt.ylim(0,0.05)"
   ]
  },
  {
   "cell_type": "code",
   "execution_count": 21,
   "id": "a80d59a4-cb37-4a3d-b235-5eb142caa8b5",
   "metadata": {},
   "outputs": [
    {
     "name": "stdout",
     "output_type": "stream",
     "text": [
      "At least 1712 components are required to explain 99.0% of the variance\n"
     ]
    }
   ],
   "source": [
    "desired_percentage_variance_explained = 0.90\n",
    "print(\"At least \" + str(np.where(cumsum >= desired_percentage_variance_explained)[0][0]) + \n",
    "      \" components are required to explain \" + str(desired_percentage_variance_explained*100) + \n",
    "      \"% of the variance\")"
   ]
  },
  {
   "cell_type": "code",
   "execution_count": 22,
   "id": "18554fe2-4c2b-477d-9c4d-264b1d554427",
   "metadata": {},
   "outputs": [],
   "source": [
    "pca = PCA(n_components = np.where(cumsum >= desired_percentage_variance_explained)[0][0])\n",
    "training_data_array_pca = pca.fit_transform(training_data_array)"
   ]
  },
  {
   "cell_type": "code",
   "execution_count": 9,
   "id": "aff24d87-f2a4-4c24-a7dc-8b863465b5a9",
   "metadata": {},
   "outputs": [],
   "source": [
    "def trainAuto_Linear(training_data, classes, kfold = 10, minC = None, maxC = None, logStepC = None):\n",
    "    \"\"\"\n",
    "        Entrena el clasificador SVM lineal hiperparametrizándolo.\n",
    "        Si no se especifican valores para las mallas se usan las mallas por defecto de cada parámetro.\n",
    "\n",
    "        Parameters:\n",
    "        training_data(np.array): datos de entrenamiento\n",
    "        classes(np.array): clases asociadas a los datos de entrenamiento\n",
    "        kfold(int): número de particiones en la validación cruzada\n",
    "        minC(float32): mínimo C en el grid\n",
    "        maxC(float32): máximo C en el grid\n",
    "        logStepC(float32): factor logaritmico de C en el grid\n",
    "\n",
    "        Returns:\n",
    "        (cv2.SVM): un clasificador SVM\n",
    "    \"\"\"\n",
    "    \n",
    "    # DECLARACIÓN DEL MODELO\n",
    "    svm = cv2.ml.SVM_create()\n",
    "    svm.setType(cv2.ml.SVM_C_SVC)\n",
    "    # SE ESTABLECE EL KERNEL\n",
    "    svm.setKernel(cv2.ml.SVM_LINEAR)\n",
    "    \n",
    "    # SE CREAN LAS MALLAS DE PARÁMETROS\n",
    "    CGrid = cv2.ml.SVM_getDefaultGridPtr(0) if ((minC is None) & (maxC is None) & (logStepC is None)) else cv2.ml.ParamGrid_create(minC, maxC, logStepC)\n",
    "    \n",
    "    # SE ENTRENA E HIPERPARAMETRIZA EL MODELO USANDO LAS MALLAS\n",
    "    svm.trainAuto(training_data, cv2.ml.ROW_SAMPLE, classes,\n",
    "                kFold = kfold,\n",
    "                Cgrid = CGrid,\n",
    "                balanced = False \n",
    "                )\n",
    "    \n",
    "    return svm"
   ]
  },
  {
   "cell_type": "code",
   "execution_count": 23,
   "id": "5a1384d0-3eb5-46b6-b97d-5c0151a81032",
   "metadata": {},
   "outputs": [
    {
     "name": "stdout",
     "output_type": "stream",
     "text": [
      "Elapsed time: 19.355407s\n",
      "Clasificador Lineal entrenado\n"
     ]
    }
   ],
   "source": [
    "start_time = time.time()\n",
    "clasificador_linear = trainAuto_Linear(training_data_array_pca, classes, kfold = 2)\n",
    "print('Elapsed time: %.6fs' % (time.time() - start_time))\n",
    "print(\"Clasificador Lineal entrenado\")"
   ]
  },
  {
   "cell_type": "code",
   "execution_count": 24,
   "id": "3d80d2af-6c83-48e1-b413-3606073925e6",
   "metadata": {},
   "outputs": [
    {
     "name": "stdout",
     "output_type": "stream",
     "text": [
      "C: 0.1\n"
     ]
    }
   ],
   "source": [
    "# Se muestra el resultado de la hiperparametrización\n",
    "print(\"C: \" + str(clasificador_linear.getC()))"
   ]
  },
  {
   "cell_type": "code",
   "execution_count": 25,
   "id": "750c9ba5-0166-4f42-9e37-5a075b67cdea",
   "metadata": {},
   "outputs": [],
   "source": [
    "def build_k_indices(y, k_fold, seed):\n",
    "    \"\"\"\n",
    "    build k indices for k-fold.\n",
    "    \n",
    "    Parameters:\n",
    "    y(np.array): datos de entrenamiento\n",
    "    kfold(int): número de particiones en la validación cruzada\n",
    "    seed(float32): semilla de aleatoriedad\n",
    "\n",
    "    Returns:\n",
    "    k_indices(list of np.array): índices de las k-fold particiones\n",
    "    \"\"\"\n",
    "    num_row = y.shape[0]\n",
    "    interval = int(num_row / k_fold)\n",
    "    np.random.seed(seed)\n",
    "    indices = np.random.permutation(num_row)\n",
    "    k_indices = [indices[k * interval: (k + 1) * interval]\n",
    "                 for k in range(k_fold)]\n",
    "    return np.array(k_indices)\n",
    "\n",
    "def test_model(model, training_data, classes, kfold = 10):\n",
    "    \"\"\"\n",
    "    Extrae del modelo hiperparametrizado los parametros y ejecuta con el mismo modelo usando todo el conjunto de datos de entrenamiento una validación cruzada de la que se obtiene el Accuracy\n",
    "    \n",
    "    Parameters: \n",
    "        model(cv2.SVM): modelo\n",
    "        training_data(np.array): datos de entrenamiento\n",
    "        classes(np.array): clases asociadas a los datos de entrenamiento\n",
    "        kfold(int): número de particiones en la validación cruzada\n",
    "        \n",
    "    Returns:\n",
    "        (float32): Accuracy del modelo\n",
    "    \"\"\"\n",
    "    \n",
    "    # SE CREA EL MODELO SVM Y SE ESTABLECEN LOS PARAMETROS DEL MODELO INTRODUCIDO\n",
    "    svm = cv2.ml.SVM_create()\n",
    "    svm.setType(cv2.ml.SVM_C_SVC)\n",
    "    svm.setKernel(model.getKernelType())\n",
    "    svm.setC(model.getC())\n",
    "    svm.setGamma(model.getGamma())\n",
    "    svm.setCoef0(model.getCoef0())\n",
    "    svm.setDegree(model.getDegree())\n",
    "    \n",
    "    # SE CREAN LOS INDICES DE LAS PARTICIONES\n",
    "    k_indices = build_k_indices(training_data, kfold, seed = 42)\n",
    "    \n",
    "    # SE DECLARA LA VARIABLE DONDE SE GUARDAN LOS RESULTADOS DEL RENDIMIENTO\n",
    "    accuracies = list()\n",
    "    \n",
    "    # PARA CADA PARTICIÓN\n",
    "    for i in range(0, len(k_indices)):\n",
    "        # SE GUARDAN LOS DATOS DE ENTRENAMIENTO RELATIVOS A DICHA PARTICIÓN\n",
    "        test_data_cv = training_data[k_indices[i]]\n",
    "        test_classes_cv = classes[k_indices[i]]\n",
    "        training_data_cv = np.delete(training_data, k_indices[i], 0)\n",
    "        training_classes_cv = np.delete(classes, k_indices[i])\n",
    "        # SE ENTRENA EL MODELO CON LOS DATOS DE ENTRENAMIENTO DE LA PARTICIÓN\n",
    "        svm.train(training_data_cv, cv2.ml.ROW_SAMPLE, training_classes_cv)\n",
    "        # SE GUARDAN LAS PREDICCIONES DEL MODELO PARA EL CONJUNTO DE TEST\n",
    "        predicted_test_classes_cv = svm.predict(test_data_cv)\n",
    "        # SE COMPARAN LAS PREDICCIONES CON EL VALOR REAL\n",
    "        accuracy = np.sum(np.reshape(predicted_test_classes_cv[1], (-1)) == test_classes_cv)/len(test_classes_cv)\n",
    "        # SE GUARDAN LOS RESULTADOS\n",
    "        accuracies.append(accuracy)\n",
    "    \n",
    "    return np.mean(accuracies)"
   ]
  },
  {
   "cell_type": "code",
   "execution_count": 26,
   "id": "850d3487-0878-4bcd-8ec6-d1a5745647a1",
   "metadata": {},
   "outputs": [],
   "source": [
    "accuracy_linear_pca = test_model(clasificador_linear, training_data_array_pca, classes)"
   ]
  },
  {
   "cell_type": "code",
   "execution_count": 27,
   "id": "4099702f-e6f7-4b80-a90d-6eb94d0b7525",
   "metadata": {},
   "outputs": [
    {
     "name": "stdout",
     "output_type": "stream",
     "text": [
      "Accuracy of Linear SVM using PCA= 23.52 %\n"
     ]
    }
   ],
   "source": [
    "print(\"Accuracy of Linear SVM using PCA= \" + str(round(accuracy_linear_pca * 100, 2)) + \" %\")"
   ]
  },
  {
   "cell_type": "code",
   "execution_count": 30,
   "id": "fa090c41-4a3c-488c-b88b-a18902f83095",
   "metadata": {},
   "outputs": [
    {
     "name": "stdout",
     "output_type": "stream",
     "text": [
      "The performance is 8.0 times better than random\n"
     ]
    }
   ],
   "source": [
    "print(\"The performance is \" + str(round(accuracy_linear_pca*34, 2)) + \" times better than random\")"
   ]
  }
 ],
 "metadata": {
  "kernelspec": {
   "display_name": "Python 3",
   "language": "python",
   "name": "python3"
  },
  "language_info": {
   "codemirror_mode": {
    "name": "ipython",
    "version": 3
   },
   "file_extension": ".py",
   "mimetype": "text/x-python",
   "name": "python",
   "nbconvert_exporter": "python",
   "pygments_lexer": "ipython3",
   "version": "3.10.1"
  }
 },
 "nbformat": 4,
 "nbformat_minor": 5
}