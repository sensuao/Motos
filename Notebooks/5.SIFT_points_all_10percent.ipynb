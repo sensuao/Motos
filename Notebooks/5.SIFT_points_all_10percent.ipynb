{
 "cells": [
  {
   "cell_type": "code",
   "execution_count": 1,
   "outputs": [],
   "source": [
    "# Funciones caseras para estandarizar la computación\n",
    "#from Functions import *\n",
    "# Para el acceso a los ficheros\n",
    "import os\n",
    "# Para las imágenes\n",
    "import numpy as np\n",
    "import cv2 # OpenCV-Python\n",
    "%matplotlib inline\n",
    "import matplotlib.pyplot as plt\n",
    "import pandas as pd\n",
    "# Para controlar el tiempo\n",
    "import time"
   ],
   "metadata": {
    "collapsed": false,
    "pycharm": {
     "name": "#%%\n"
    }
   }
  },
  {
   "cell_type": "code",
   "execution_count": 2,
   "outputs": [],
   "source": [
    "# SIFT feature detector/descriptor\n",
    "sift = cv2.xfeatures2d.SIFT_create()"
   ],
   "metadata": {
    "collapsed": false,
    "pycharm": {
     "name": "#%%\n"
    }
   }
  },
  {
   "cell_type": "code",
   "execution_count": 3,
   "outputs": [],
   "source": [
    "data_path = \"../Circuito_Almeria_171021/Iniciados/Data_resized_10/\"\n",
    "examples_path = \"../Circuito_Almeria_171021/Iniciados/Examples/\""
   ],
   "metadata": {
    "collapsed": false,
    "pycharm": {
     "name": "#%%\n"
    }
   }
  },
  {
   "cell_type": "code",
   "execution_count": 4,
   "outputs": [],
   "source": [
    "moto_example = cv2.imread(data_path + \"1\" + \"/\" + os.listdir(data_path + os.listdir(data_path)[0])[5])"
   ],
   "metadata": {
    "collapsed": false,
    "pycharm": {
     "name": "#%%\n"
    }
   }
  },
  {
   "cell_type": "code",
   "execution_count": 5,
   "outputs": [],
   "source": [
    "sift_points_examples_list = list()\n",
    "folder_names_list = list()\n",
    "for example_name in os.listdir(examples_path):\n",
    "    folder_names_list.append(example_name[:-4])\n",
    "    example = cv2.cvtColor(cv2.imread(os.path.join(examples_path, example_name)), cv2.COLOR_BGR2GRAY)\n",
    "    scale_percent = 10\n",
    "    # SE CALCULAN LAS NUEVAS DIMENSIONES DE LA IMAGEN\n",
    "    width = int(example.shape[1] * scale_percent / 100)\n",
    "    height = int(example.shape[0] * scale_percent / 100)\n",
    "    dim = (width, height)\n",
    "    # SE RESCALA LA IMAGEN\n",
    "    resized_example = cv2.resize(example, dim, interpolation = cv2.INTER_AREA)\n",
    "    kp, des = sift.detectAndCompute(resized_example, None)\n",
    "    sift_points_examples_list.append(des)\n",
    "pos2nb_dict = dict(zip(np.arange(len(folder_names_list)), folder_names_list))"
   ],
   "metadata": {
    "collapsed": false,
    "pycharm": {
     "name": "#%%\n"
    }
   }
  },
  {
   "cell_type": "raw",
   "source": [
    "compare2examples(moto_example)"
   ],
   "metadata": {
    "collapsed": false,
    "pycharm": {
     "name": "#%% raw\n"
    }
   }
  },
  {
   "cell_type": "code",
   "execution_count": 7,
   "outputs": [],
   "source": [
    "img_paths = list()\n",
    "for folder in os.listdir(data_path):\n",
    "    for image in os.listdir(os.path.join(data_path, folder)):\n",
    "        img_paths.append([os.path.join(data_path, folder, image), folder])\n",
    "df = pd.DataFrame(img_paths, columns = [\"image_path\", \"folder\"])\n",
    "del img_paths"
   ],
   "metadata": {
    "collapsed": false,
    "pycharm": {
     "name": "#%%\n"
    }
   }
  },
  {
   "cell_type": "raw",
   "source": [
    "df.head()"
   ],
   "metadata": {
    "collapsed": false,
    "pycharm": {
     "name": "#%% raw\n"
    }
   }
  },
  {
   "cell_type": "code",
   "execution_count": 8,
   "outputs": [],
   "source": [
    "sift_ponts = list()\n",
    "for image_path in df.image_path:\n",
    "    image = cv2.cvtColor(cv2.imread(image_path), cv2.COLOR_BGR2GRAY)\n",
    "    kp, des = sift.detectAndCompute(image, None)\n",
    "    sift_ponts.append(des)\n",
    "df[\"sift_points\"] = sift_ponts\n",
    "del sift_ponts"
   ],
   "metadata": {
    "collapsed": false,
    "pycharm": {
     "name": "#%%\n"
    }
   }
  },
  {
   "cell_type": "code",
   "execution_count": 9,
   "outputs": [
    {
     "data": {
      "text/plain": "                                          image_path folder  \\\n0  ../Circuito_Almeria_171021/Iniciados/Data_resi...      1   \n1  ../Circuito_Almeria_171021/Iniciados/Data_resi...      1   \n2  ../Circuito_Almeria_171021/Iniciados/Data_resi...      1   \n3  ../Circuito_Almeria_171021/Iniciados/Data_resi...      1   \n4  ../Circuito_Almeria_171021/Iniciados/Data_resi...      1   \n\n                                         sift_points  \n0  [[0.0, 0.0, 0.0, 0.0, 0.0, 0.0, 0.0, 0.0, 2.0,...  \n1  [[133.0, 1.0, 0.0, 0.0, 0.0, 0.0, 0.0, 9.0, 13...  \n2  [[4.0, 10.0, 12.0, 30.0, 143.0, 10.0, 0.0, 0.0...  \n3  [[0.0, 0.0, 0.0, 0.0, 0.0, 0.0, 0.0, 0.0, 0.0,...  \n4  [[51.0, 5.0, 0.0, 4.0, 34.0, 37.0, 8.0, 26.0, ...  ",
      "text/html": "<div>\n<style scoped>\n    .dataframe tbody tr th:only-of-type {\n        vertical-align: middle;\n    }\n\n    .dataframe tbody tr th {\n        vertical-align: top;\n    }\n\n    .dataframe thead th {\n        text-align: right;\n    }\n</style>\n<table border=\"1\" class=\"dataframe\">\n  <thead>\n    <tr style=\"text-align: right;\">\n      <th></th>\n      <th>image_path</th>\n      <th>folder</th>\n      <th>sift_points</th>\n    </tr>\n  </thead>\n  <tbody>\n    <tr>\n      <th>0</th>\n      <td>../Circuito_Almeria_171021/Iniciados/Data_resi...</td>\n      <td>1</td>\n      <td>[[0.0, 0.0, 0.0, 0.0, 0.0, 0.0, 0.0, 0.0, 2.0,...</td>\n    </tr>\n    <tr>\n      <th>1</th>\n      <td>../Circuito_Almeria_171021/Iniciados/Data_resi...</td>\n      <td>1</td>\n      <td>[[133.0, 1.0, 0.0, 0.0, 0.0, 0.0, 0.0, 9.0, 13...</td>\n    </tr>\n    <tr>\n      <th>2</th>\n      <td>../Circuito_Almeria_171021/Iniciados/Data_resi...</td>\n      <td>1</td>\n      <td>[[4.0, 10.0, 12.0, 30.0, 143.0, 10.0, 0.0, 0.0...</td>\n    </tr>\n    <tr>\n      <th>3</th>\n      <td>../Circuito_Almeria_171021/Iniciados/Data_resi...</td>\n      <td>1</td>\n      <td>[[0.0, 0.0, 0.0, 0.0, 0.0, 0.0, 0.0, 0.0, 0.0,...</td>\n    </tr>\n    <tr>\n      <th>4</th>\n      <td>../Circuito_Almeria_171021/Iniciados/Data_resi...</td>\n      <td>1</td>\n      <td>[[51.0, 5.0, 0.0, 4.0, 34.0, 37.0, 8.0, 26.0, ...</td>\n    </tr>\n  </tbody>\n</table>\n</div>"
     },
     "execution_count": 9,
     "metadata": {},
     "output_type": "execute_result"
    }
   ],
   "source": [
    "df.head()"
   ],
   "metadata": {
    "collapsed": false,
    "pycharm": {
     "name": "#%%\n"
    }
   }
  },
  {
   "cell_type": "code",
   "source": [
    "def sift_cluster_one_example(sift_points_data, sift_points_examples_list = sift_points_examples_list):\n",
    "    nb_good_matches = list()\n",
    "    for sift_points_example in sift_points_examples_list:\n",
    "        # BFMatcher(Brute Force Matcher) with defalut setting\n",
    "        bf = cv2.BFMatcher(cv2.NORM_L2)\n",
    "        matches = bf.knnMatch(sift_points_data, sift_points_example, k=2)\n",
    "        # Apply ratio test as in David Rowe's paper\n",
    "        good_matches = []\n",
    "        for m, n in matches:\n",
    "            if m.distance < 0.75 * n.distance:\n",
    "                good_matches.append(m)\n",
    "        nb_good_matches.append(len(good_matches))\n",
    "    return(np.argmax(nb_good_matches))"
   ],
   "metadata": {
    "collapsed": false,
    "pycharm": {
     "name": "#%%\n"
    }
   },
   "execution_count": 10,
   "outputs": []
  },
  {
   "cell_type": "code",
   "execution_count": 11,
   "outputs": [
    {
     "data": {
      "text/plain": "23"
     },
     "execution_count": 11,
     "metadata": {},
     "output_type": "execute_result"
    }
   ],
   "source": [
    "sift_cluster_one_example(df.sift_points[2002])"
   ],
   "metadata": {
    "collapsed": false,
    "pycharm": {
     "name": "#%%\n"
    }
   }
  },
  {
   "cell_type": "code",
   "execution_count": 12,
   "outputs": [],
   "source": [
    "pred_folder = list()\n",
    "for sift_points in df.sift_points:\n",
    "    pred_folder.append(pos2nb_dict[sift_cluster_one_example(sift_points)])"
   ],
   "metadata": {
    "collapsed": false,
    "pycharm": {
     "name": "#%%\n"
    }
   }
  },
  {
   "cell_type": "code",
   "execution_count": 14,
   "outputs": [
    {
     "name": "stdout",
     "output_type": "stream",
     "text": [
      "Accuracy: 15.04%\n"
     ]
    }
   ],
   "source": [
    "df[\"pred_folder\"] = pred_folder\n",
    "accuracy = (sum(df.folder == df.pred_folder)-34)/(len(df)-34)\n",
    "print(\"Accuracy: \" + str(round(accuracy*100, 2)) + \"%\")"
   ],
   "metadata": {
    "collapsed": false,
    "pycharm": {
     "name": "#%%\n"
    }
   }
  },
  {
   "cell_type": "code",
   "execution_count": 15,
   "outputs": [
    {
     "data": {
      "text/plain": "array([[10,  3,  1, ...,  2,  1,  2],\n       [ 5,  7,  1, ...,  1,  1,  0],\n       [ 4,  3, 22, ...,  1,  1,  0],\n       ...,\n       [ 3,  2,  1, ..., 19,  0,  0],\n       [ 2,  1,  0, ...,  1, 15,  0],\n       [ 1,  0,  0, ...,  0,  1,  9]], dtype=int64)"
     },
     "execution_count": 15,
     "metadata": {},
     "output_type": "execute_result"
    }
   ],
   "source": [
    "from sklearn.metrics import confusion_matrix\n",
    "confusion_matrix(df.folder, df.pred_folder)"
   ],
   "metadata": {
    "collapsed": false,
    "pycharm": {
     "name": "#%%\n"
    }
   }
  },
  {
   "cell_type": "code",
   "execution_count": 16,
   "outputs": [
    {
     "name": "stdout",
     "output_type": "stream",
     "text": [
      "El modelo lo hace 6.11 veces mejor que la asignación aleatoria\n"
     ]
    }
   ],
   "source": [
    "np.random.seed(42)\n",
    "rnd_folder = np.random.randint(1,35, len(df)).astype(str)\n",
    "df[\"rnd_folder\"] = pd.Series(rnd_folder)\n",
    "accuracy_rnd = sum(df.folder == df[\"rnd_folder\"])/len(df)\n",
    "print(\"El modelo lo hace \" + str(round(accuracy/accuracy_rnd,2)) + \" veces mejor que la asignación aleatoria\")"
   ],
   "metadata": {
    "collapsed": false,
    "pycharm": {
     "name": "#%%\n"
    }
   }
  },
  {
   "cell_type": "code",
   "execution_count": 17,
   "outputs": [],
   "source": [
    "examples2_path = \"../Circuito_Almeria_171021/Iniciados/Examples2/\""
   ],
   "metadata": {
    "collapsed": false,
    "pycharm": {
     "name": "#%%\n"
    }
   }
  },
  {
   "cell_type": "code",
   "execution_count": 18,
   "outputs": [],
   "source": [
    "sift_points_examples_list = list()\n",
    "folder_names_list = list()\n",
    "for folder in os.listdir(examples2_path):\n",
    "    folder_names_list.append(folder)\n",
    "    for image in os.listdir(os.path.join(examples2_path, folder)):\n",
    "        example = cv2.imread(os.path.join(examples2_path, folder, image))\n",
    "        scale_percent = 5\n",
    "        # SE CALCULAN LAS NUEVAS DIMENSIONES DE LA IMAGEN\n",
    "        width = int(example.shape[1] * scale_percent / 100)\n",
    "        height = int(example.shape[0] * scale_percent / 100)\n",
    "        dim = (width, height)\n",
    "        # SE RESCALA LA IMAGEN\n",
    "        resized_example = cv2.resize(example, dim, interpolation = cv2.INTER_AREA)\n",
    "        kp, des = sift.detectAndCompute(resized_example, None)\n",
    "        sift_points_examples_list.append(des)"
   ],
   "metadata": {
    "collapsed": false,
    "pycharm": {
     "name": "#%%\n"
    }
   }
  },
  {
   "cell_type": "code",
   "execution_count": 19,
   "outputs": [],
   "source": [
    "def sift_cluster_two_examples_top(sift_points_data, sift_points_examples_list = sift_points_examples_list):\n",
    "    nb_good_matches = list()\n",
    "    for sift_points_example in sift_points_examples_list:\n",
    "        # BFMatcher(Brute Force Matcher) with defalut setting\n",
    "        bf = cv2.BFMatcher(cv2.NORM_L2)\n",
    "        matches = bf.knnMatch(sift_points_data, sift_points_example, k=2)\n",
    "        # Apply ratio test as in David Rowe's paper\n",
    "        good_matches = []\n",
    "        for m, n in matches:\n",
    "            if m.distance < 0.75 * n.distance:\n",
    "                good_matches.append(m)\n",
    "        nb_good_matches.append(len(good_matches))\n",
    "    return(np.argmax(nb_good_matches))"
   ],
   "metadata": {
    "collapsed": false,
    "pycharm": {
     "name": "#%%\n"
    }
   }
  },
  {
   "cell_type": "code",
   "execution_count": 20,
   "outputs": [
    {
     "data": {
      "text/plain": "39"
     },
     "execution_count": 20,
     "metadata": {},
     "output_type": "execute_result"
    }
   ],
   "source": [
    "sift_cluster_two_examples_top(df.sift_points[123])"
   ],
   "metadata": {
    "collapsed": false,
    "pycharm": {
     "name": "#%%\n"
    }
   }
  },
  {
   "cell_type": "code",
   "execution_count": 21,
   "outputs": [],
   "source": [
    "pred_folder = list()\n",
    "for sift_points in df.sift_points:\n",
    "    pred_folder.append(pos2nb_dict[int(sift_cluster_two_examples_top(sift_points)/2)])"
   ],
   "metadata": {
    "collapsed": false,
    "pycharm": {
     "name": "#%%\n"
    }
   }
  },
  {
   "cell_type": "code",
   "execution_count": 22,
   "outputs": [
    {
     "name": "stdout",
     "output_type": "stream",
     "text": [
      "Accuracy: 9.68%\n"
     ]
    }
   ],
   "source": [
    "df[\"pred_folder_2\"] = pred_folder\n",
    "accuracy_2 = (sum(df.folder == df.pred_folder_2)-34*2)/(len(df)-34*2)\n",
    "print(\"Accuracy: \" + str(round(accuracy_2*100, 2)) + \"%\")"
   ],
   "metadata": {
    "collapsed": false,
    "pycharm": {
     "name": "#%%\n"
    }
   }
  },
  {
   "cell_type": "code",
   "execution_count": 23,
   "outputs": [
    {
     "name": "stdout",
     "output_type": "stream",
     "text": [
      "El modelo lo hace 3.93 veces mejor que la asignación aleatoria\n"
     ]
    }
   ],
   "source": [
    "print(\"El modelo lo hace \" + str(round(accuracy_2/accuracy_rnd,2)) + \" veces mejor que la asignación aleatoria\")"
   ],
   "metadata": {
    "collapsed": false,
    "pycharm": {
     "name": "#%%\n"
    }
   }
  }
 ],
 "metadata": {
  "kernelspec": {
   "display_name": "Python 3",
   "language": "python",
   "name": "python3"
  },
  "language_info": {
   "codemirror_mode": {
    "name": "ipython",
    "version": 2
   },
   "file_extension": ".py",
   "mimetype": "text/x-python",
   "name": "python",
   "nbconvert_exporter": "python",
   "pygments_lexer": "ipython2",
   "version": "2.7.6"
  }
 },
 "nbformat": 4,
 "nbformat_minor": 0
}