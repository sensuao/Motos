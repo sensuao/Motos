{
 "cells": [
  {
   "cell_type": "markdown",
   "id": "4aa4b34f-ae8d-41f8-a2a6-fed207e14b8b",
   "metadata": {
    "tags": []
   },
   "source": [
    "# Libraries"
   ]
  },
  {
   "cell_type": "code",
   "execution_count": 1,
   "id": "b92af4d3-fd46-4c11-8fc7-2d5bae0ed2d0",
   "metadata": {},
   "outputs": [],
   "source": [
    "# Funciones caseras para estandarizar la computación\n",
    "#from Functions import *\n",
    "# Para el acceso a los ficheros\n",
    "import os\n",
    "# Para las imágenes\n",
    "import numpy as np\n",
    "import cv2 # OpenCV-Python\n",
    "%matplotlib inline\n",
    "import matplotlib.pyplot as plt\n",
    "# Para controlar el tiempo\n",
    "import time"
   ]
  },
  {
   "cell_type": "code",
   "execution_count": 2,
   "id": "e9f8fd18-4592-4a1c-9282-103ede4c368e",
   "metadata": {},
   "outputs": [],
   "source": [
    "data_path = \"../Circuito_Almeria_171021/Iniciados/Data_resized/\""
   ]
  },
  {
   "cell_type": "code",
   "execution_count": 4,
   "id": "b767f534-67e7-44e0-a2c7-cfac37c1db3e",
   "metadata": {},
   "outputs": [
    {
     "name": "stdout",
     "output_type": "stream",
     "text": [
      "37 traning images read -> 1\n",
      "53 test images read -> 1\n",
      "25 traning images read -> 10\n",
      "35 test images read -> 10\n",
      "34 traning images read -> 11\n",
      "50 test images read -> 11\n",
      "27 traning images read -> 12\n",
      "38 test images read -> 12\n",
      "27 traning images read -> 13\n",
      "39 test images read -> 13\n",
      "32 traning images read -> 14\n",
      "47 test images read -> 14\n",
      "29 traning images read -> 15\n",
      "41 test images read -> 15\n",
      "33 traning images read -> 16\n",
      "48 test images read -> 16\n",
      "27 traning images read -> 17\n",
      "38 test images read -> 17\n",
      "30 traning images read -> 18\n",
      "43 test images read -> 18\n",
      "21 traning images read -> 19\n",
      "30 test images read -> 19\n",
      "43 traning images read -> 2\n",
      "64 test images read -> 2\n",
      "13 traning images read -> 20\n",
      "17 test images read -> 20\n",
      "30 traning images read -> 21\n",
      "44 test images read -> 21\n",
      "41 traning images read -> 22\n",
      "60 test images read -> 22\n",
      "35 traning images read -> 23\n",
      "52 test images read -> 23\n",
      "39 traning images read -> 24\n",
      "56 test images read -> 24\n",
      "33 traning images read -> 25\n",
      "48 test images read -> 25\n",
      "41 traning images read -> 26\n",
      "59 test images read -> 26\n",
      "42 traning images read -> 27\n",
      "62 test images read -> 27\n",
      "26 traning images read -> 28\n",
      "37 test images read -> 28\n",
      "22 traning images read -> 29\n",
      "31 test images read -> 29\n",
      "37 traning images read -> 3\n",
      "55 test images read -> 3\n",
      "19 traning images read -> 30\n",
      "27 test images read -> 30\n",
      "17 traning images read -> 31\n",
      "25 test images read -> 31\n",
      "47 traning images read -> 32\n",
      "69 test images read -> 32\n",
      "36 traning images read -> 33\n",
      "53 test images read -> 33\n",
      "38 traning images read -> 34\n",
      "56 test images read -> 34\n",
      "27 traning images read -> 4\n",
      "39 test images read -> 4\n",
      "40 traning images read -> 5\n",
      "59 test images read -> 5\n",
      "30 traning images read -> 6\n",
      "44 test images read -> 6\n",
      "30 traning images read -> 7\n",
      "44 test images read -> 7\n",
      "35 traning images read -> 8\n",
      "50 test images read -> 8\n",
      "34 traning images read -> 9\n",
      "50 test images read -> 9\n",
      "Elapsed time: 6.921006s\n"
     ]
    }
   ],
   "source": [
    "ratio = 0.8\n",
    "\n",
    "training_data = []\n",
    "test_data = []\n",
    "classes = []\n",
    "start_time = time.time()\n",
    "for folder in os.listdir(data_path):\n",
    "    counter_training_samples = 0\n",
    "    counter_test_samples = 0\n",
    "    for file in os.listdir(data_path + folder):\n",
    "        img = cv2.imread(data_path + folder + \"/\" + file)\n",
    "        if counter_training_samples <= ratio*len(os.listdir(data_path + folder))/2:\n",
    "            training_data.append(img)\n",
    "            classes.append(int(folder))\n",
    "            counter_training_samples += 1\n",
    "        else:\n",
    "            test_data.append(img)\n",
    "            counter_test_samples += 1\n",
    "    print(str(counter_training_samples) + \" traning images read -> \" + folder)\n",
    "    print(str(counter_test_samples) + \" test images read -> \" + folder)\n",
    "print('Elapsed time: %.6fs' % (time.time() - start_time))"
   ]
  },
  {
   "cell_type": "code",
   "execution_count": 5,
   "id": "b83abbca-38c4-449f-93e1-2e5850488763",
   "metadata": {},
   "outputs": [],
   "source": [
    "def trainAuto_Linear(training_data, classes, kfold = 10, minC = None, maxC = None, logStepC = None):\n",
    "    \"\"\"\n",
    "        Entrena el clasificador SVM lineal hiperparametrizándolo.\n",
    "        Si no se especifican valores para las mallas se usan las mallas por defecto de cada parámetro.\n",
    "\n",
    "        Parameters:\n",
    "        training_data(np.array): datos de entrenamiento\n",
    "        classes(np.array): clases asociadas a los datos de entrenamiento\n",
    "        kfold(int): número de particiones en la validación cruzada\n",
    "        minC(float32): mínimo C en el grid\n",
    "        maxC(float32): máximo C en el grid\n",
    "        logStepC(float32): factor logaritmico de C en el grid\n",
    "\n",
    "        Returns:\n",
    "        (cv2.SVM): un clasificador SVM\n",
    "    \"\"\"\n",
    "    \n",
    "    # DECLARACIÓN DEL MODELO\n",
    "    svm = cv2.ml.SVM_create()\n",
    "    svm.setType(cv2.ml.SVM_C_SVC)\n",
    "    # SE ESTABLECE EL KERNEL\n",
    "    svm.setKernel(cv2.ml.SVM_LINEAR)\n",
    "    \n",
    "    # SE CREAN LAS MALLAS DE PARÁMETROS\n",
    "    CGrid = cv2.ml.SVM_getDefaultGridPtr(0) if ((minC is None) & (maxC is None) & (logStepC is None)) else cv2.ml.ParamGrid_create(minC, maxC, logStepC)\n",
    "    \n",
    "    # SE ENTRENA E HIPERPARAMETRIZA EL MODELO USANDO LAS MALLAS\n",
    "    svm.trainAuto(training_data, cv2.ml.ROW_SAMPLE, classes,\n",
    "                kFold = kfold,\n",
    "                Cgrid = CGrid,\n",
    "                balanced = False \n",
    "                )\n",
    "    \n",
    "    return svm"
   ]
  },
  {
   "cell_type": "code",
   "execution_count": 44,
   "id": "9b34a65e-01d7-45de-be61-5d83fd0e725d",
   "metadata": {},
   "outputs": [],
   "source": [
    "training_data_reshaped = np.reshape(training_data, (len(training_data), 182*273*3))\n",
    "\n",
    "training_data_array = np.asarray(training_data_reshaped, np.float32)"
   ]
  },
  {
   "cell_type": "code",
   "execution_count": null,
   "id": "f1427b25-2e45-4d85-a8af-6d27cbed124c",
   "metadata": {},
   "outputs": [],
   "source": [
    "start_time = time.time()\n",
    "clasificador_linear = trainAuto_Linear(training_data_array, np.array(classes), kfold = 2)\n",
    "print('Elapsed time: %.6fs' % (time.time() - start_time))\n",
    "print(\"Clasificador Lineal entrenado\")"
   ]
  },
  {
   "cell_type": "code",
   "execution_count": 33,
   "id": "1f75e1ee-295b-420d-ab31-d351d17f6853",
   "metadata": {},
   "outputs": [
    {
     "data": {
      "text/plain": [
       "array([1, 1, 1, ..., 9, 9, 9])"
      ]
     },
     "execution_count": 33,
     "metadata": {},
     "output_type": "execute_result"
    }
   ],
   "source": [
    "np.array(classes)"
   ]
  }
 ],
 "metadata": {
  "kernelspec": {
   "display_name": "Python 3",
   "language": "python",
   "name": "python3"
  },
  "language_info": {
   "codemirror_mode": {
    "name": "ipython",
    "version": 3
   },
   "file_extension": ".py",
   "mimetype": "text/x-python",
   "name": "python",
   "nbconvert_exporter": "python",
   "pygments_lexer": "ipython3",
   "version": "3.10.1"
  }
 },
 "nbformat": 4,
 "nbformat_minor": 5
}